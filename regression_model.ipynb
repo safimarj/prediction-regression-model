{
 "cells": [
  {
   "cell_type": "markdown",
   "metadata": {},
   "source": [
    "# Linear Regression Prediction Model to Analyze the Future of Smart Home Technologies\n",
    "\n",
    "**The goal of this prediction model is to see the possible future of smart home technologies. The prediction model will help me determine the future of my smart mirror idea, iMar.**"
   ]
  },
  {
   "cell_type": "markdown",
   "metadata": {},
   "source": [
    "## Retrieve and Analyze Data\n",
    "\n",
    "First we have to clean the data from a csv file and make it suitable for use in the regression model. This will be done by reading in the csv with pandas."
   ]
  },
  {
   "cell_type": "code",
   "execution_count": 70,
   "metadata": {},
   "outputs": [],
   "source": [
    "## imports required\n",
    "import matplotlib.pyplot as plt # used for plotting regression model\n",
    "import pandas as pd # used for retrieving data\n",
    "import numpy as np # used for data computation\n",
    "from sklearn import linear_model, metrics, model_selection"
   ]
  },
  {
   "cell_type": "code",
   "execution_count": 71,
   "metadata": {},
   "outputs": [
    {
     "data": {
      "text/html": [
       "<div>\n",
       "<style scoped>\n",
       "    .dataframe tbody tr th:only-of-type {\n",
       "        vertical-align: middle;\n",
       "    }\n",
       "\n",
       "    .dataframe tbody tr th {\n",
       "        vertical-align: top;\n",
       "    }\n",
       "\n",
       "    .dataframe thead th {\n",
       "        text-align: right;\n",
       "    }\n",
       "</style>\n",
       "<table border=\"1\" class=\"dataframe\">\n",
       "  <thead>\n",
       "    <tr style=\"text-align: right;\">\n",
       "      <th></th>\n",
       "      <th>Date</th>\n",
       "      <th>Open</th>\n",
       "      <th>High</th>\n",
       "      <th>Low</th>\n",
       "      <th>Close</th>\n",
       "      <th>Adj Close</th>\n",
       "      <th>Volume</th>\n",
       "    </tr>\n",
       "  </thead>\n",
       "  <tbody>\n",
       "    <tr>\n",
       "      <th>0</th>\n",
       "      <td>2017-12-11</td>\n",
       "      <td>9.75</td>\n",
       "      <td>9.75</td>\n",
       "      <td>9.75</td>\n",
       "      <td>9.75</td>\n",
       "      <td>9.75</td>\n",
       "      <td>100</td>\n",
       "    </tr>\n",
       "    <tr>\n",
       "      <th>1</th>\n",
       "      <td>2017-12-12</td>\n",
       "      <td>9.75</td>\n",
       "      <td>9.75</td>\n",
       "      <td>9.75</td>\n",
       "      <td>9.75</td>\n",
       "      <td>9.75</td>\n",
       "      <td>0</td>\n",
       "    </tr>\n",
       "    <tr>\n",
       "      <th>2</th>\n",
       "      <td>2017-12-13</td>\n",
       "      <td>9.90</td>\n",
       "      <td>9.90</td>\n",
       "      <td>9.70</td>\n",
       "      <td>9.70</td>\n",
       "      <td>9.70</td>\n",
       "      <td>4400</td>\n",
       "    </tr>\n",
       "    <tr>\n",
       "      <th>3</th>\n",
       "      <td>2017-12-14</td>\n",
       "      <td>9.70</td>\n",
       "      <td>9.70</td>\n",
       "      <td>9.70</td>\n",
       "      <td>9.70</td>\n",
       "      <td>9.70</td>\n",
       "      <td>0</td>\n",
       "    </tr>\n",
       "    <tr>\n",
       "      <th>4</th>\n",
       "      <td>2017-12-15</td>\n",
       "      <td>9.70</td>\n",
       "      <td>9.70</td>\n",
       "      <td>9.70</td>\n",
       "      <td>9.70</td>\n",
       "      <td>9.70</td>\n",
       "      <td>0</td>\n",
       "    </tr>\n",
       "  </tbody>\n",
       "</table>\n",
       "</div>"
      ],
      "text/plain": [
       "         Date  Open  High   Low  Close  Adj Close  Volume\n",
       "0  2017-12-11  9.75  9.75  9.75   9.75       9.75     100\n",
       "1  2017-12-12  9.75  9.75  9.75   9.75       9.75       0\n",
       "2  2017-12-13  9.90  9.90  9.70   9.70       9.70    4400\n",
       "3  2017-12-14  9.70  9.70  9.70   9.70       9.70       0\n",
       "4  2017-12-15  9.70  9.70  9.70   9.70       9.70       0"
      ]
     },
     "execution_count": 71,
     "metadata": {},
     "output_type": "execute_result"
    }
   ],
   "source": [
    "data = pd.read_csv('VVNT.csv') # read in stock data for the model\n",
    "data.head() # get first few entries"
   ]
  },
  {
   "cell_type": "markdown",
   "metadata": {},
   "source": [
    "## Creating the Linear Regression Model\n",
    "\n",
    "Now that we have retrieved the data, we can create the linear regression model with sklearn and numPy. We will setup the independent and dependent variables as:\n",
    "\n",
    "**x := time**\n,",
    "**y := open price**"
   ]
  },
  {
   "cell_type": "code",
   "execution_count": 73,
   "metadata": {},
   "outputs": [
    {
     "data": {
      "text/plain": [
       "0       9.75\n",
       "1       9.75\n",
       "2       9.90\n",
       "3       9.70\n",
       "4       9.70\n",
       "        ... \n",
       "1120    5.76\n",
       "1121    5.41\n",
       "1122    5.46\n",
       "1123    5.64\n",
       "1124    5.80\n",
       "Name: Open, Length: 1125, dtype: float64"
      ]
     },
     "execution_count": 73,
     "metadata": {},
     "output_type": "execute_result"
    }
   ],
   "source": [
    "def normalize_data(input):\n",
    "    '''\n",
    "    Function that normalizes the x variable through mean and norm numPy\n",
    "    '''\n",
    "    input = input - np.mean(input, axis=0)\n",
    "    return (input / np.linalg.norm(input, axis=0))\n",
    "\n",
    "regression_model = linear_model.LinearRegression() # will normalize data later\n",
    "\n",
    "x = np.arange(len(data)) # have to ensure the data is evenly spaced\n",
    "x = normalize_data(np.expand_dims(x, 1)) # used to expand shape, data is also normalized\n",
    "y = data['Open'] # retrieve open prices\n",
    "\n",
    "regression_model.fit(x, y) # fit data to regression model\n",
    "\n",
    "x\n",
    "y"
   ]
  },
  {
   "cell_type": "code",
   "execution_count": 74,
   "metadata": {},
   "outputs": [
    {
     "data": {
      "image/png": "[encoded data removed]",
      "text/plain": [
       "<Figure size 432x288 with 1 Axes>"
      ]
     },
     "metadata": {
      "needs_background": "light"
     },
     "output_type": "display_data"
    }
   ],
   "source": [
    "plt.scatter(x, y) # scatter plot with current data \n",
    "open_price = regression_model.coef_ * x + regression_model.intercept_\n",
    "\n",
    "# plot regression model fit\n",
    "plt.plot(x, open_price, 'red')\n",
    "plt.show()"
   ]
  },
  {
   "cell_type": "markdown",
   "metadata": {},
   "source": [
    "## Creating the Prediction Model Based on the Regression Model\n",
    "\n",
    "Lastly, we can now create a prediction model of the future based on the regression model. This can be done by increasing the space and estimating/extending the future regression model."
   ]
  },
  {
   "cell_type": "code",
   "execution_count": 79,
   "metadata": {},
   "outputs": [
    {
     "data": {
      "image/png": "[encoded data removed]",
      "text/plain": [
       "<Figure size 432x288 with 1 Axes>"
      ]
     },
     "metadata": {
      "needs_background": "light"
     },
     "output_type": "display_data"
    }
   ],
   "source": [
    "## update with new independent and dependent values (namely x2, y2)\n",
    "x2 = np.linspace(0, 0.10, 2) # create new range (0 <= x2 <= 0.10)\n",
    "y2 = regression_model.predict(x2[:, np.newaxis]) # prediction model with updated x (x2) variable\n",
    "\n",
    "plt.scatter(x, y) # scatter plot with current data again\n",
    "plt.plot(x2, y2, 'red') # new updated regression line fit\n",
    "plt.show()"
   ]
  }
 ],
 "metadata": {
  "interpreter": {
   "hash": "b0fa6594d8f4cbf19f97940f81e996739fb7646882a419484c72d19e05852a7e"
  },
  "kernelspec": {
   "display_name": "Python 3.9.10 64-bit",
   "language": "python",
   "name": "python3"
  },
  "language_info": {
   "codemirror_mode": {
    "name": "ipython",
    "version": 3
   },
   "file_extension": ".py",
   "mimetype": "text/x-python",
   "name": "python",
   "nbconvert_exporter": "python",
   "pygments_lexer": "ipython3",
   "version": "3.9.12"
  },
  "orig_nbformat": 4
 },
 "nbformat": 4,
 "nbformat_minor": 2
}
